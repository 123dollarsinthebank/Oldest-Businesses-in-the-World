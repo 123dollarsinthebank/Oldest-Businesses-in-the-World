{
 "cells": [
  {
   "cell_type": "code",
   "execution_count": 2,
   "id": "3dbd9794",
   "metadata": {},
   "outputs": [],
   "source": [
    "import pandas as pd\n",
    "import matplotlib.pyplot as plt\n",
    "\n",
    "businesses = pd.read_csv('businesses.csv')\n",
    "categories = pd.read_csv('datasets\\\\categories.csv')\n",
    "countries = pd.read_csv('datasets\\\\countries.csv')\n",
    "new_businesses = pd.read_csv('datasets\\\\new_businesses.csv')"
   ]
  },
  {
   "cell_type": "markdown",
   "id": "5864e3d3",
   "metadata": {},
   "source": [
    "# Oldest business by continent"
   ]
  },
  {
   "cell_type": "code",
   "execution_count": 19,
   "id": "c6fa145d",
   "metadata": {},
   "outputs": [
    {
     "data": {
      "text/html": [
       "<div>\n",
       "<style scoped>\n",
       "    .dataframe tbody tr th:only-of-type {\n",
       "        vertical-align: middle;\n",
       "    }\n",
       "\n",
       "    .dataframe tbody tr th {\n",
       "        vertical-align: top;\n",
       "    }\n",
       "\n",
       "    .dataframe thead th {\n",
       "        text-align: right;\n",
       "    }\n",
       "</style>\n",
       "<table border=\"1\" class=\"dataframe\">\n",
       "  <thead>\n",
       "    <tr style=\"text-align: right;\">\n",
       "      <th></th>\n",
       "      <th>year_founded</th>\n",
       "    </tr>\n",
       "    <tr>\n",
       "      <th>continent</th>\n",
       "      <th></th>\n",
       "    </tr>\n",
       "  </thead>\n",
       "  <tbody>\n",
       "    <tr>\n",
       "      <th>Africa</th>\n",
       "      <td>1772</td>\n",
       "    </tr>\n",
       "    <tr>\n",
       "      <th>Asia</th>\n",
       "      <td>578</td>\n",
       "    </tr>\n",
       "    <tr>\n",
       "      <th>Europe</th>\n",
       "      <td>803</td>\n",
       "    </tr>\n",
       "    <tr>\n",
       "      <th>North America</th>\n",
       "      <td>1534</td>\n",
       "    </tr>\n",
       "    <tr>\n",
       "      <th>Oceania</th>\n",
       "      <td>1809</td>\n",
       "    </tr>\n",
       "    <tr>\n",
       "      <th>South America</th>\n",
       "      <td>1565</td>\n",
       "    </tr>\n",
       "  </tbody>\n",
       "</table>\n",
       "</div>"
      ],
      "text/plain": [
       "               year_founded\n",
       "continent                  \n",
       "Africa                 1772\n",
       "Asia                    578\n",
       "Europe                  803\n",
       "North America          1534\n",
       "Oceania                1809\n",
       "South America          1565"
      ]
     },
     "execution_count": 19,
     "metadata": {},
     "output_type": "execute_result"
    }
   ],
   "source": [
    "biz_country = businesses.merge(countries, on = \"country_code\").merge(categories, on = \"category_code\")\n",
    "oldest_biz = biz_country.groupby('continent').agg({'year_founded': 'min'})\n",
    "oldest_biz"
   ]
  },
  {
   "cell_type": "markdown",
   "id": "3dc69d60",
   "metadata": {},
   "source": [
    "# Oldest business in South America"
   ]
  },
  {
   "cell_type": "code",
   "execution_count": 40,
   "id": "39887f3e",
   "metadata": {},
   "outputs": [
    {
     "data": {
      "text/html": [
       "<div>\n",
       "<style scoped>\n",
       "    .dataframe tbody tr th:only-of-type {\n",
       "        vertical-align: middle;\n",
       "    }\n",
       "\n",
       "    .dataframe tbody tr th {\n",
       "        vertical-align: top;\n",
       "    }\n",
       "\n",
       "    .dataframe thead th {\n",
       "        text-align: right;\n",
       "    }\n",
       "</style>\n",
       "<table border=\"1\" class=\"dataframe\">\n",
       "  <thead>\n",
       "    <tr style=\"text-align: right;\">\n",
       "      <th></th>\n",
       "      <th>business</th>\n",
       "      <th>year_founded</th>\n",
       "    </tr>\n",
       "  </thead>\n",
       "  <tbody>\n",
       "    <tr>\n",
       "      <th>107</th>\n",
       "      <td>Casa Nacional de Moneda</td>\n",
       "      <td>1565</td>\n",
       "    </tr>\n",
       "    <tr>\n",
       "      <th>134</th>\n",
       "      <td>Casa de Moneda de Colombia</td>\n",
       "      <td>1621</td>\n",
       "    </tr>\n",
       "    <tr>\n",
       "      <th>5</th>\n",
       "      <td>Hacienda Chuao</td>\n",
       "      <td>1660</td>\n",
       "    </tr>\n",
       "    <tr>\n",
       "      <th>133</th>\n",
       "      <td>Casa da Moeda do Brasil</td>\n",
       "      <td>1694</td>\n",
       "    </tr>\n",
       "    <tr>\n",
       "      <th>147</th>\n",
       "      <td>Famae</td>\n",
       "      <td>1811</td>\n",
       "    </tr>\n",
       "  </tbody>\n",
       "</table>\n",
       "</div>"
      ],
      "text/plain": [
       "                       business  year_founded\n",
       "107     Casa Nacional de Moneda          1565\n",
       "134  Casa de Moneda de Colombia          1621\n",
       "5                Hacienda Chuao          1660\n",
       "133     Casa da Moeda do Brasil          1694\n",
       "147                       Famae          1811"
      ]
     },
     "execution_count": 40,
     "metadata": {},
     "output_type": "execute_result"
    }
   ],
   "source": [
    "biz_country_category = businesses.merge(countries, on = \"country_code\").merge(categories, on = \"category_code\")\n",
    "s_a = biz_country_category[biz_country_category['continent'] == 'South America']\n",
    "s_a.sort_values('year_founded', ascending = True).head()[['business', 'year_founded']]"
   ]
  },
  {
   "cell_type": "markdown",
   "id": "6c83f94b",
   "metadata": {},
   "source": [
    "# Oldest category of business in South America"
   ]
  },
  {
   "cell_type": "code",
   "execution_count": 36,
   "id": "119fa40d",
   "metadata": {},
   "outputs": [
    {
     "data": {
      "text/html": [
       "<div>\n",
       "<style scoped>\n",
       "    .dataframe tbody tr th:only-of-type {\n",
       "        vertical-align: middle;\n",
       "    }\n",
       "\n",
       "    .dataframe tbody tr th {\n",
       "        vertical-align: top;\n",
       "    }\n",
       "\n",
       "    .dataframe thead th {\n",
       "        text-align: right;\n",
       "    }\n",
       "</style>\n",
       "<table border=\"1\" class=\"dataframe\">\n",
       "  <thead>\n",
       "    <tr style=\"text-align: right;\">\n",
       "      <th></th>\n",
       "      <th>year_founded</th>\n",
       "    </tr>\n",
       "    <tr>\n",
       "      <th>category</th>\n",
       "      <th></th>\n",
       "    </tr>\n",
       "  </thead>\n",
       "  <tbody>\n",
       "    <tr>\n",
       "      <th>Banking &amp; Finance</th>\n",
       "      <td>1565</td>\n",
       "    </tr>\n",
       "    <tr>\n",
       "      <th>Cafés, Restaurants &amp; Bars</th>\n",
       "      <td>1877</td>\n",
       "    </tr>\n",
       "    <tr>\n",
       "      <th>Defense</th>\n",
       "      <td>1811</td>\n",
       "    </tr>\n",
       "    <tr>\n",
       "      <th>Food &amp; Beverages</th>\n",
       "      <td>1660</td>\n",
       "    </tr>\n",
       "    <tr>\n",
       "      <th>Manufacturing &amp; Production</th>\n",
       "      <td>1621</td>\n",
       "    </tr>\n",
       "  </tbody>\n",
       "</table>\n",
       "</div>"
      ],
      "text/plain": [
       "                            year_founded\n",
       "category                                \n",
       "Banking & Finance                   1565\n",
       "Cafés, Restaurants & Bars           1877\n",
       "Defense                             1811\n",
       "Food & Beverages                    1660\n",
       "Manufacturing & Production          1621"
      ]
     },
     "execution_count": 36,
     "metadata": {},
     "output_type": "execute_result"
    }
   ],
   "source": [
    "s_a_cat = s_a.groupby('category').agg({'year_founded': 'min'})\n",
    "s_a_cat"
   ]
  },
  {
   "cell_type": "markdown",
   "id": "2e97ace3",
   "metadata": {},
   "source": [
    "# Missing South America countries from the list"
   ]
  },
  {
   "cell_type": "code",
   "execution_count": 61,
   "id": "5f76c461",
   "metadata": {},
   "outputs": [
    {
     "data": {
      "text/html": [
       "<div>\n",
       "<style scoped>\n",
       "    .dataframe tbody tr th:only-of-type {\n",
       "        vertical-align: middle;\n",
       "    }\n",
       "\n",
       "    .dataframe tbody tr th {\n",
       "        vertical-align: top;\n",
       "    }\n",
       "\n",
       "    .dataframe thead th {\n",
       "        text-align: right;\n",
       "    }\n",
       "</style>\n",
       "<table border=\"1\" class=\"dataframe\">\n",
       "  <thead>\n",
       "    <tr style=\"text-align: right;\">\n",
       "      <th></th>\n",
       "      <th>continent</th>\n",
       "      <th>country</th>\n",
       "    </tr>\n",
       "  </thead>\n",
       "  <tbody>\n",
       "    <tr>\n",
       "      <th>50</th>\n",
       "      <td>South America</td>\n",
       "      <td>Ecuador</td>\n",
       "    </tr>\n",
       "    <tr>\n",
       "      <th>143</th>\n",
       "      <td>South America</td>\n",
       "      <td>Paraguay</td>\n",
       "    </tr>\n",
       "    <tr>\n",
       "      <th>160</th>\n",
       "      <td>South America</td>\n",
       "      <td>Suriname</td>\n",
       "    </tr>\n",
       "  </tbody>\n",
       "</table>\n",
       "</div>"
      ],
      "text/plain": [
       "         continent   country\n",
       "50   South America   Ecuador\n",
       "143  South America  Paraguay\n",
       "160  South America  Suriname"
      ]
     },
     "metadata": {},
     "output_type": "display_data"
    },
    {
     "data": {
      "text/plain": [
       "continent    South America\n",
       "country                  3\n",
       "Name: 5, dtype: object"
      ]
     },
     "metadata": {},
     "output_type": "display_data"
    }
   ],
   "source": [
    "countries_missing = countries.merge(businesses, on = 'country_code', how = 'left', indicator = True)\n",
    "countries_missing_list = countries_missing[countries_missing['_merge'] != 'both'][['continent', 'country']]\n",
    "countries_missing_count_sa = countries_missing_list.groupby('continent').agg({'country':'count'})\n",
    "s_a_missing = countries_missing_list[countries_missing_list['continent'] == 'South America']\n",
    "s_a_missing_count = countries_missing_count_sa.reset_index()\n",
    "display(s_a_missing, s_a_missing_count.loc[5]"
   ]
  },
  {
   "cell_type": "markdown",
   "id": "290adee7",
   "metadata": {},
   "source": [
    "# Missing countries from the list"
   ]
  },
  {
   "cell_type": "code",
   "execution_count": 72,
   "id": "a2444b4d",
   "metadata": {},
   "outputs": [
    {
     "data": {
      "text/html": [
       "<div>\n",
       "<style scoped>\n",
       "    .dataframe tbody tr th:only-of-type {\n",
       "        vertical-align: middle;\n",
       "    }\n",
       "\n",
       "    .dataframe tbody tr th {\n",
       "        vertical-align: top;\n",
       "    }\n",
       "\n",
       "    .dataframe thead th {\n",
       "        text-align: right;\n",
       "    }\n",
       "</style>\n",
       "<table border=\"1\" class=\"dataframe\">\n",
       "  <thead>\n",
       "    <tr style=\"text-align: right;\">\n",
       "      <th></th>\n",
       "      <th>country</th>\n",
       "    </tr>\n",
       "    <tr>\n",
       "      <th>continent</th>\n",
       "      <th></th>\n",
       "    </tr>\n",
       "  </thead>\n",
       "  <tbody>\n",
       "    <tr>\n",
       "      <th>Africa</th>\n",
       "      <td>3</td>\n",
       "    </tr>\n",
       "    <tr>\n",
       "      <th>Asia</th>\n",
       "      <td>7</td>\n",
       "    </tr>\n",
       "    <tr>\n",
       "      <th>Europe</th>\n",
       "      <td>2</td>\n",
       "    </tr>\n",
       "    <tr>\n",
       "      <th>North America</th>\n",
       "      <td>6</td>\n",
       "    </tr>\n",
       "    <tr>\n",
       "      <th>Oceania</th>\n",
       "      <td>11</td>\n",
       "    </tr>\n",
       "    <tr>\n",
       "      <th>South America</th>\n",
       "      <td>3</td>\n",
       "    </tr>\n",
       "  </tbody>\n",
       "</table>\n",
       "</div>"
      ],
      "text/plain": [
       "               country\n",
       "continent             \n",
       "Africa               3\n",
       "Asia                 7\n",
       "Europe               2\n",
       "North America        6\n",
       "Oceania             11\n",
       "South America        3"
      ]
     },
     "execution_count": 72,
     "metadata": {},
     "output_type": "execute_result"
    }
   ],
   "source": [
    "countries_missing = countries.merge(businesses, on = 'country_code', how = 'left', indicator = True)\n",
    "countries_missing_list = countries_missing[countries_missing['_merge'] != 'both'][['continent', 'country']]\n",
    "countries_missing_count= countries_missing_list.groupby('continent').agg({'country':'count'})\n",
    "countries_missing_count"
   ]
  },
  {
   "cell_type": "markdown",
   "id": "c2aefa83",
   "metadata": {},
   "source": [
    "# The oldest companies"
   ]
  },
  {
   "cell_type": "code",
   "execution_count": 84,
   "id": "62df5b6a",
   "metadata": {},
   "outputs": [
    {
     "data": {
      "text/html": [
       "<div>\n",
       "<style scoped>\n",
       "    .dataframe tbody tr th:only-of-type {\n",
       "        vertical-align: middle;\n",
       "    }\n",
       "\n",
       "    .dataframe tbody tr th {\n",
       "        vertical-align: top;\n",
       "    }\n",
       "\n",
       "    .dataframe thead th {\n",
       "        text-align: right;\n",
       "    }\n",
       "</style>\n",
       "<table border=\"1\" class=\"dataframe\">\n",
       "  <thead>\n",
       "    <tr style=\"text-align: right;\">\n",
       "      <th></th>\n",
       "      <th>business</th>\n",
       "      <th>country</th>\n",
       "      <th>year_founded</th>\n",
       "      <th>operations</th>\n",
       "    </tr>\n",
       "  </thead>\n",
       "  <tbody>\n",
       "    <tr>\n",
       "      <th>148</th>\n",
       "      <td>Kongō Gumi</td>\n",
       "      <td>Japan</td>\n",
       "      <td>578</td>\n",
       "      <td>1444</td>\n",
       "    </tr>\n",
       "    <tr>\n",
       "      <th>142</th>\n",
       "      <td>St. Peter Stifts Kulinarium</td>\n",
       "      <td>Austria</td>\n",
       "      <td>803</td>\n",
       "      <td>1219</td>\n",
       "    </tr>\n",
       "    <tr>\n",
       "      <th>44</th>\n",
       "      <td>Staffelter Hof Winery</td>\n",
       "      <td>Germany</td>\n",
       "      <td>862</td>\n",
       "      <td>1160</td>\n",
       "    </tr>\n",
       "    <tr>\n",
       "      <th>127</th>\n",
       "      <td>Monnaie de Paris</td>\n",
       "      <td>France</td>\n",
       "      <td>864</td>\n",
       "      <td>1158</td>\n",
       "    </tr>\n",
       "    <tr>\n",
       "      <th>126</th>\n",
       "      <td>The Royal Mint</td>\n",
       "      <td>United Kingdom</td>\n",
       "      <td>886</td>\n",
       "      <td>1136</td>\n",
       "    </tr>\n",
       "  </tbody>\n",
       "</table>\n",
       "</div>"
      ],
      "text/plain": [
       "                        business         country  year_founded  operations\n",
       "148                   Kongō Gumi           Japan           578        1444\n",
       "142  St. Peter Stifts Kulinarium         Austria           803        1219\n",
       "44         Staffelter Hof Winery         Germany           862        1160\n",
       "127            Monnaie de Paris           France           864        1158\n",
       "126               The Royal Mint  United Kingdom           886        1136"
      ]
     },
     "execution_count": 84,
     "metadata": {},
     "output_type": "execute_result"
    }
   ],
   "source": [
    "from datetime import date\n",
    "todays_date = date.today()\n",
    "biz_country_category['operations'] = todays_date.year - biz_country_category['year_founded']\n",
    "biz_country_category.sort_values('operations', ascending = False).head()[['business', 'country','year_founded','operations']]"
   ]
  },
  {
   "cell_type": "markdown",
   "id": "0515e2fb",
   "metadata": {},
   "source": [
    "# The oldest business categories"
   ]
  },
  {
   "cell_type": "code",
   "execution_count": 90,
   "id": "ef898322",
   "metadata": {},
   "outputs": [
    {
     "data": {
      "text/html": [
       "<div>\n",
       "<style scoped>\n",
       "    .dataframe tbody tr th:only-of-type {\n",
       "        vertical-align: middle;\n",
       "    }\n",
       "\n",
       "    .dataframe tbody tr th {\n",
       "        vertical-align: top;\n",
       "    }\n",
       "\n",
       "    .dataframe thead th {\n",
       "        text-align: right;\n",
       "    }\n",
       "</style>\n",
       "<table border=\"1\" class=\"dataframe\">\n",
       "  <thead>\n",
       "    <tr style=\"text-align: right;\">\n",
       "      <th></th>\n",
       "      <th>operations</th>\n",
       "    </tr>\n",
       "    <tr>\n",
       "      <th>category</th>\n",
       "      <th></th>\n",
       "    </tr>\n",
       "  </thead>\n",
       "  <tbody>\n",
       "    <tr>\n",
       "      <th>Construction</th>\n",
       "      <td>1444</td>\n",
       "    </tr>\n",
       "    <tr>\n",
       "      <th>Cafés, Restaurants &amp; Bars</th>\n",
       "      <td>1219</td>\n",
       "    </tr>\n",
       "    <tr>\n",
       "      <th>Distillers, Vintners, &amp; Breweries</th>\n",
       "      <td>1160</td>\n",
       "    </tr>\n",
       "    <tr>\n",
       "      <th>Manufacturing &amp; Production</th>\n",
       "      <td>1158</td>\n",
       "    </tr>\n",
       "    <tr>\n",
       "      <th>Agriculture</th>\n",
       "      <td>804</td>\n",
       "    </tr>\n",
       "  </tbody>\n",
       "</table>\n",
       "</div>"
      ],
      "text/plain": [
       "                                   operations\n",
       "category                                     \n",
       "Construction                             1444\n",
       "Cafés, Restaurants & Bars                1219\n",
       "Distillers, Vintners, & Breweries        1160\n",
       "Manufacturing & Production               1158\n",
       "Agriculture                               804"
      ]
     },
     "metadata": {},
     "output_type": "display_data"
    },
    {
     "data": {
      "text/html": [
       "<div>\n",
       "<style scoped>\n",
       "    .dataframe tbody tr th:only-of-type {\n",
       "        vertical-align: middle;\n",
       "    }\n",
       "\n",
       "    .dataframe tbody tr th {\n",
       "        vertical-align: top;\n",
       "    }\n",
       "\n",
       "    .dataframe thead th {\n",
       "        text-align: right;\n",
       "    }\n",
       "</style>\n",
       "<table border=\"1\" class=\"dataframe\">\n",
       "  <thead>\n",
       "    <tr style=\"text-align: right;\">\n",
       "      <th></th>\n",
       "      <th>operations</th>\n",
       "    </tr>\n",
       "    <tr>\n",
       "      <th>category</th>\n",
       "      <th></th>\n",
       "    </tr>\n",
       "  </thead>\n",
       "  <tbody>\n",
       "    <tr>\n",
       "      <th>Manufacturing &amp; Production</th>\n",
       "      <td>8476</td>\n",
       "    </tr>\n",
       "    <tr>\n",
       "      <th>Distillers, Vintners, &amp; Breweries</th>\n",
       "      <td>7192</td>\n",
       "    </tr>\n",
       "    <tr>\n",
       "      <th>Banking &amp; Finance</th>\n",
       "      <td>4512</td>\n",
       "    </tr>\n",
       "    <tr>\n",
       "      <th>Cafés, Restaurants &amp; Bars</th>\n",
       "      <td>3600</td>\n",
       "    </tr>\n",
       "    <tr>\n",
       "      <th>Postal Service</th>\n",
       "      <td>3239</td>\n",
       "    </tr>\n",
       "  </tbody>\n",
       "</table>\n",
       "</div>"
      ],
      "text/plain": [
       "                                   operations\n",
       "category                                     \n",
       "Manufacturing & Production               8476\n",
       "Distillers, Vintners, & Breweries        7192\n",
       "Banking & Finance                        4512\n",
       "Cafés, Restaurants & Bars                3600\n",
       "Postal Service                           3239"
      ]
     },
     "metadata": {},
     "output_type": "display_data"
    }
   ],
   "source": [
    "biz_country_category['operations'] = todays_date.year - biz_country_category['year_founded']\n",
    "cat_max = biz_country_category.groupby('category').agg({'operations':'max'}).sort_values('operations', ascending = False).head()\n",
    "cat_sum = biz_country_category.groupby('category').agg({'operations':'sum'}).sort_values('operations', ascending = False).head()\n",
    "display(cat_max, cat_sum)"
   ]
  }
 ],
 "metadata": {
  "kernelspec": {
   "display_name": "Python 3 (ipykernel)",
   "language": "python",
   "name": "python3"
  },
  "language_info": {
   "codemirror_mode": {
    "name": "ipython",
    "version": 3
   },
   "file_extension": ".py",
   "mimetype": "text/x-python",
   "name": "python",
   "nbconvert_exporter": "python",
   "pygments_lexer": "ipython3",
   "version": "3.9.7"
  }
 },
 "nbformat": 4,
 "nbformat_minor": 5
}
